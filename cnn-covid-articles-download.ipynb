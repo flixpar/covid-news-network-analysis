{
 "cells": [
  {
   "cell_type": "code",
   "execution_count": 1,
   "metadata": {},
   "outputs": [],
   "source": [
    "import pandas as pd\n",
    "import requests\n",
    "from bs4 import BeautifulSoup\n",
    "import tqdm"
   ]
  },
  {
   "cell_type": "code",
   "execution_count": 2,
   "metadata": {},
   "outputs": [],
   "source": [
    "articles_meta = pd.read_csv(\"data/cnn_articles_meta.csv\")"
   ]
  },
  {
   "cell_type": "code",
   "execution_count": 3,
   "metadata": {},
   "outputs": [],
   "source": [
    "keywords = [\"covid\", \"coronavirus\", \"pandemic\"]"
   ]
  },
  {
   "cell_type": "code",
   "execution_count": 4,
   "metadata": {},
   "outputs": [
    {
     "data": {
      "text/html": [
       "<div>\n",
       "<style scoped>\n",
       "    .dataframe tbody tr th:only-of-type {\n",
       "        vertical-align: middle;\n",
       "    }\n",
       "\n",
       "    .dataframe tbody tr th {\n",
       "        vertical-align: top;\n",
       "    }\n",
       "\n",
       "    .dataframe thead th {\n",
       "        text-align: right;\n",
       "    }\n",
       "</style>\n",
       "<table border=\"1\" class=\"dataframe\">\n",
       "  <thead>\n",
       "    <tr style=\"text-align: right;\">\n",
       "      <th></th>\n",
       "      <th>title</th>\n",
       "      <th>date</th>\n",
       "      <th>url</th>\n",
       "    </tr>\n",
       "  </thead>\n",
       "  <tbody>\n",
       "    <tr>\n",
       "      <th>5</th>\n",
       "      <td>'This is a time to come together': Pence defen...</td>\n",
       "      <td>2020-03-01</td>\n",
       "      <td>https://www.cnn.com/2020/03/01/politics/mike-p...</td>\n",
       "    </tr>\n",
       "    <tr>\n",
       "      <th>7</th>\n",
       "      <td>Paris' famed Louvre Museum is closed as France...</td>\n",
       "      <td>2020-03-01</td>\n",
       "      <td>https://www.cnn.com/2020/03/01/europe/france-c...</td>\n",
       "    </tr>\n",
       "    <tr>\n",
       "      <th>14</th>\n",
       "      <td>Biden slams Trump administration's response to...</td>\n",
       "      <td>2020-03-01</td>\n",
       "      <td>https://www.cnn.com/2020/03/01/politics/joe-bi...</td>\n",
       "    </tr>\n",
       "    <tr>\n",
       "      <th>17</th>\n",
       "      <td>Trump is expected to visit the CDC and NIH thi...</td>\n",
       "      <td>2020-03-01</td>\n",
       "      <td>https://www.cnn.com/2020/03/01/politics/donald...</td>\n",
       "    </tr>\n",
       "    <tr>\n",
       "      <th>19</th>\n",
       "      <td>'SNL' spoofs Mike Pence's new role leading cor...</td>\n",
       "      <td>2020-03-01</td>\n",
       "      <td>https://www.cnn.com/2020/03/01/media/snl-mike-...</td>\n",
       "    </tr>\n",
       "    <tr>\n",
       "      <th>...</th>\n",
       "      <td>...</td>\n",
       "      <td>...</td>\n",
       "      <td>...</td>\n",
       "    </tr>\n",
       "    <tr>\n",
       "      <th>33654</th>\n",
       "      <td>Dow 30,000: How the market rally defied a pand...</td>\n",
       "      <td>2020-11-25</td>\n",
       "      <td>https://www.cnn.com/2020/11/25/investing/prema...</td>\n",
       "    </tr>\n",
       "    <tr>\n",
       "      <th>33655</th>\n",
       "      <td>Fauci says he's worried about what coronavirus...</td>\n",
       "      <td>2020-11-25</td>\n",
       "      <td>https://www.cnn.com/2020/11/25/health/us-coron...</td>\n",
       "    </tr>\n",
       "    <tr>\n",
       "      <th>33661</th>\n",
       "      <td>What you need to know about coronavirus on Wed...</td>\n",
       "      <td>2020-11-25</td>\n",
       "      <td>https://www.cnn.com/2020/11/25/world/coronavir...</td>\n",
       "    </tr>\n",
       "    <tr>\n",
       "      <th>33668</th>\n",
       "      <td>50 ways to celebrate a birthday during a pandemic</td>\n",
       "      <td>2020-11-25</td>\n",
       "      <td>https://www.cnn.com/2020/11/25/health/how-to-c...</td>\n",
       "    </tr>\n",
       "    <tr>\n",
       "      <th>33690</th>\n",
       "      <td>November 24 coronavirus news</td>\n",
       "      <td>2020-11-25</td>\n",
       "      <td>https://www.cnn.com/world/live-news/coronaviru...</td>\n",
       "    </tr>\n",
       "  </tbody>\n",
       "</table>\n",
       "<p>5050 rows × 3 columns</p>\n",
       "</div>"
      ],
      "text/plain": [
       "                                                   title        date  \\\n",
       "5      'This is a time to come together': Pence defen...  2020-03-01   \n",
       "7      Paris' famed Louvre Museum is closed as France...  2020-03-01   \n",
       "14     Biden slams Trump administration's response to...  2020-03-01   \n",
       "17     Trump is expected to visit the CDC and NIH thi...  2020-03-01   \n",
       "19     'SNL' spoofs Mike Pence's new role leading cor...  2020-03-01   \n",
       "...                                                  ...         ...   \n",
       "33654  Dow 30,000: How the market rally defied a pand...  2020-11-25   \n",
       "33655  Fauci says he's worried about what coronavirus...  2020-11-25   \n",
       "33661  What you need to know about coronavirus on Wed...  2020-11-25   \n",
       "33668  50 ways to celebrate a birthday during a pandemic  2020-11-25   \n",
       "33690                       November 24 coronavirus news  2020-11-25   \n",
       "\n",
       "                                                     url  \n",
       "5      https://www.cnn.com/2020/03/01/politics/mike-p...  \n",
       "7      https://www.cnn.com/2020/03/01/europe/france-c...  \n",
       "14     https://www.cnn.com/2020/03/01/politics/joe-bi...  \n",
       "17     https://www.cnn.com/2020/03/01/politics/donald...  \n",
       "19     https://www.cnn.com/2020/03/01/media/snl-mike-...  \n",
       "...                                                  ...  \n",
       "33654  https://www.cnn.com/2020/11/25/investing/prema...  \n",
       "33655  https://www.cnn.com/2020/11/25/health/us-coron...  \n",
       "33661  https://www.cnn.com/2020/11/25/world/coronavir...  \n",
       "33668  https://www.cnn.com/2020/11/25/health/how-to-c...  \n",
       "33690  https://www.cnn.com/world/live-news/coronaviru...  \n",
       "\n",
       "[5050 rows x 3 columns]"
      ]
     },
     "execution_count": 4,
     "metadata": {},
     "output_type": "execute_result"
    }
   ],
   "source": [
    "covid_articles_meta = articles_meta[articles_meta.title.str.contains(\"|\".join(keywords))]\n",
    "covid_articles_meta"
   ]
  },
  {
   "cell_type": "code",
   "execution_count": 5,
   "metadata": {},
   "outputs": [],
   "source": [
    "articles = []\n",
    "for i, row in covid_articles_meta[:10].iterrows():\n",
    "    url = row.url\n",
    "    \n",
    "    page = requests.get(url)\n",
    "    soup = BeautifulSoup(page.content, \"html.parser\")\n",
    "    \n",
    "    links = [a[\"href\"] for a in soup.select(\".zn-body__paragraph a\")]\n",
    "\n",
    "    content = soup.find_all(class_=\"zn-body__paragraph\")\n",
    "    article_text = \" \".join([c.text for c in content])\n",
    "    \n",
    "    article = {\n",
    "        \"title\": row.title,\n",
    "        \"date\": row.date,\n",
    "        \"url\": row.url,\n",
    "        \"links\": links,\n",
    "        \"text\": article_text,\n",
    "    }\n",
    "    articles.append(article)"
   ]
  },
  {
   "cell_type": "code",
   "execution_count": 6,
   "metadata": {},
   "outputs": [
    {
     "data": {
      "text/plain": [
       "['https://www.cnn.com/videos/politics/2020/03/01/mike-pence-coronavirus-don-jr-fox-news-jake-tapper-sotu-vpx.cnn',\n",
       " 'https://www.cnn.com/2020/03/01/politics/joe-biden-coronavirus-response-trump-administration-cnntv/index.html',\n",
       " 'https://www.cnn.com/2020/02/28/politics/donald-trump-jr-coronavirus-democrats/index.html',\n",
       " 'https://www.cnn.com/2020/02/26/politics/trump-coronavirus-stock-market/index.html',\n",
       " 'https://twitter.com/tedlieu/status/1234152146611818497?s=20',\n",
       " 'https://www.cnn.com/asia/live-news/coronavirus-outbreak-02-29-20-intl-hnk/h_b2418af32092b854e3591e11e08f2896',\n",
       " 'https://www.cnn.com/travel/article/private-tour-louvre-paris/index.html',\n",
       " 'https://www.who.int/emergencies/diseases/novel-coronavirus-2019/advice-for-public',\n",
       " 'https://www.cnn.com/style/article/whats-so-special-about-the-mona-lisa/index.html',\n",
       " 'https://www.cnn.com/travel/article/private-tour-louvre-paris/index.html',\n",
       " 'https://www.cnn.com/asia/live-news/coronavirus-outbreak-03-01-20-intl-hnk/h_fab395d1124a912300906c4f3b4d7401',\n",
       " 'https://www.cnn.com/audio/podcasts/corona-virus',\n",
       " 'https://www.cnn.com/election/2020/candidate/biden',\n",
       " 'https://www.cnn.com/2020/02/29/politics/trump-coronavirus-outbreak/index.html',\n",
       " 'https://www.cnn.com/2020/02/27/health/us-cases-coronavirus-community-transmission/index.html',\n",
       " 'https://www.cnn.com/2020/02/29/politics/super-tuesday-south-carolina-primary-takeaways/index.html',\n",
       " 'https://www.cnn.com/2020/03/01/politics/trump-screening-coronavirus-travelers-united-states/index.html',\n",
       " 'https://www.cnn.com/2020/02/26/politics/trump-coronavirus-stock-market/index.html',\n",
       " 'https://www.cnn.com/2020/03/01/politics/trump-screening-coronavirus-travelers-united-states/index.html',\n",
       " 'https://www.cnn.com/asia/live-news/coronavirus-outbreak-03-01-20-intl-hnk/index.html',\n",
       " 'https://www.cnn.com/2020/03/01/politics/mike-pence-coronavirus-testing-kits-cnntv/index.html',\n",
       " 'https://www.politico.com/playbook',\n",
       " 'https://www.cnn.com/2020/02/29/health/us-coronavirus-saturday/index.html',\n",
       " 'https://www.cnn.com/2016/07/14/us/mike-pence-fast-facts/index.html',\n",
       " 'https://www.cnn.com/election/2020/candidate/bloomberg',\n",
       " 'https://www.cnn.com/election/2020/candidate/warren',\n",
       " 'https://www.cnn.com/election/2020/candidate/biden',\n",
       " 'https://www.cnn.com/election/2020/candidate/sanders',\n",
       " 'https://www.cnn.com/specials/asia/wuhan-coronavirus-intl-hnk',\n",
       " 'https://edition.cnn.com/2020/02/26/asia/shincheonji-south-korea-hnk-intl/index.html',\n",
       " 'https://www.cnn.com/2020/02/29/politics/trump-coronavirus-outbreak/index.html',\n",
       " 'https://www.cnn.com/2020/02/29/politics/trump-coronavirus-outbreak/index.html',\n",
       " 'https://twitter.com/realDonaldTrump/status/1234109126864707585',\n",
       " 'https://www.cnn.com/2020/02/29/politics/trump-coronavirus-outbreak/index.html',\n",
       " 'https://www.cnn.com/2020/03/01/politics/mike-pence-coronavirus-testing-kits-cnntv/index.html',\n",
       " 'https://edition.cnn.com/2016/03/23/sport/gallery/march-madness-school-spirit/index.html',\n",
       " 'https://www.cnn.com/2020/03/01/health/us-coronavirus-sunday/index.html',\n",
       " 'https://bit.ly/38cNrIA']"
      ]
     },
     "execution_count": 6,
     "metadata": {},
     "output_type": "execute_result"
    }
   ],
   "source": [
    "all_links = [a[\"links\"] for a in articles]\n",
    "all_links = [a for b in all_links for a in b]\n",
    "all_links"
   ]
  },
  {
   "cell_type": "code",
   "execution_count": 7,
   "metadata": {},
   "outputs": [
    {
     "data": {
      "text/plain": [
       "[0, 0, 3, 4, 0, 2, 1, 0, 1, 0]"
      ]
     },
     "execution_count": 7,
     "metadata": {},
     "output_type": "execute_result"
    }
   ],
   "source": [
    "cdc_counts = [a[\"text\"].count(\"CDC\") for a in articles]\n",
    "cdc_counts"
   ]
  },
  {
   "cell_type": "code",
   "execution_count": 8,
   "metadata": {},
   "outputs": [
    {
     "data": {
      "text/plain": [
       "[0, 0, 0, 0, 0, 0, 0, 0, 0, 0]"
      ]
     },
     "execution_count": 8,
     "metadata": {},
     "output_type": "execute_result"
    }
   ],
   "source": [
    "who_counts = [a[\"text\"].count(\"WHO\") for a in articles]\n",
    "who_counts"
   ]
  },
  {
   "cell_type": "code",
   "execution_count": 9,
   "metadata": {},
   "outputs": [],
   "source": [
    "articles_df = pd.DataFrame(articles)\n",
    "articles_df.to_csv(\"data/cnn_covid_articles_content.csv\", index=False)"
   ]
  },
  {
   "cell_type": "code",
   "execution_count": null,
   "metadata": {},
   "outputs": [],
   "source": []
  }
 ],
 "metadata": {
  "@webio": {
   "lastCommId": null,
   "lastKernelId": null
  },
  "kernelspec": {
   "display_name": "Python 3",
   "language": "python",
   "name": "python3"
  },
  "language_info": {
   "codemirror_mode": {
    "name": "ipython",
    "version": 3
   },
   "file_extension": ".py",
   "mimetype": "text/x-python",
   "name": "python",
   "nbconvert_exporter": "python",
   "pygments_lexer": "ipython3",
   "version": "3.8.6"
  }
 },
 "nbformat": 4,
 "nbformat_minor": 4
}
