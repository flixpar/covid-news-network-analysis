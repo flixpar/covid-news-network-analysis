{
 "cells": [
  {
   "cell_type": "code",
   "execution_count": 1,
   "metadata": {},
   "outputs": [],
   "source": [
    "from bs4 import BeautifulSoup\n",
    "import requests\n",
    "import pandas as pd"
   ]
  },
  {
   "cell_type": "code",
   "execution_count": 2,
   "metadata": {},
   "outputs": [],
   "source": [
    "def parse_cnn_sitemap(url):\n",
    "    page = requests.get(url)\n",
    "    soup = BeautifulSoup(page.content, \"html.parser\")\n",
    "    \n",
    "    list_elems = soup.find_all(class_=\"sitemap-entry\")[1].find_all(\"li\")\n",
    "    \n",
    "    articles = []\n",
    "    for elem in list_elems:\n",
    "        article = {\n",
    "            \"title\": elem.find(\"a\").text,\n",
    "            \"date\": elem.find(class_=\"date\").text,\n",
    "            \"url\": elem.find(\"a\")[\"href\"],\n",
    "        }\n",
    "        articles.append(article)\n",
    "        \n",
    "    return articles"
   ]
  },
  {
   "cell_type": "code",
   "execution_count": 3,
   "metadata": {},
   "outputs": [
    {
     "name": "stdout",
     "output_type": "stream",
     "text": [
      "Month: 3\n",
      "Month: 4\n",
      "Month: 5\n",
      "Month: 6\n",
      "Month: 7\n",
      "Month: 8\n",
      "Month: 9\n",
      "Month: 10\n",
      "Month: 11\n"
     ]
    }
   ],
   "source": [
    "articles = []\n",
    "for i in range(3,12):\n",
    "    print(f\"Month: {i}\")\n",
    "    sitemap_url = f\"https://www.cnn.com/article/sitemap-2020-{i}.html\"\n",
    "    _articles = parse_cnn_sitemap(sitemap_url)\n",
    "    articles.extend(_articles)"
   ]
  },
  {
   "cell_type": "code",
   "execution_count": 4,
   "metadata": {},
   "outputs": [],
   "source": [
    "articles_df = pd.DataFrame(articles)\n",
    "articles_df = articles_df.sort_values(by=\"date\")"
   ]
  },
  {
   "cell_type": "code",
   "execution_count": 5,
   "metadata": {},
   "outputs": [],
   "source": [
    "articles_df.to_csv(\"data/cnn_articles_meta.csv\", index=False)"
   ]
  },
  {
   "cell_type": "code",
   "execution_count": null,
   "metadata": {},
   "outputs": [],
   "source": []
  }
 ],
 "metadata": {
  "@webio": {
   "lastCommId": null,
   "lastKernelId": null
  },
  "kernelspec": {
   "display_name": "Python 3",
   "language": "python",
   "name": "python3"
  },
  "language_info": {
   "codemirror_mode": {
    "name": "ipython",
    "version": 3
   },
   "file_extension": ".py",
   "mimetype": "text/x-python",
   "name": "python",
   "nbconvert_exporter": "python",
   "pygments_lexer": "ipython3",
   "version": "3.9.0"
  }
 },
 "nbformat": 4,
 "nbformat_minor": 4
}
